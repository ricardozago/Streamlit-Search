{
 "cells": [
  {
   "cell_type": "code",
   "execution_count": 1,
   "id": "011196c4",
   "metadata": {},
   "outputs": [],
   "source": [
    "import pandas as pd\n",
    "import numpy as np\n",
    "import matplotlib.pyplot as plt\n",
    "import json\n",
    "import regex as re\n",
    "from tqdm import tqdm\n",
    "tqdm.pandas()"
   ]
  },
  {
   "cell_type": "code",
   "execution_count": 2,
   "id": "6c80d12d",
   "metadata": {},
   "outputs": [],
   "source": [
    "arquivo ='D:/wiki_00'"
   ]
  },
  {
   "cell_type": "code",
   "execution_count": 3,
   "id": "f796b4c7",
   "metadata": {},
   "outputs": [
    {
     "name": "stderr",
     "output_type": "stream",
     "text": [
      "2000it [00:00, 6053.26it/s]\n"
     ]
    }
   ],
   "source": [
    "articles = []\n",
    "\n",
    "for i, line in enumerate(tqdm(open(arquivo, 'r'))):\n",
    "    if i>=2000:\n",
    "        break\n",
    "    articles.append(json.loads(line))"
   ]
  },
  {
   "cell_type": "code",
   "execution_count": 4,
   "id": "78c37103",
   "metadata": {},
   "outputs": [],
   "source": [
    "df = pd.DataFrame(articles)\n",
    "\n",
    "df = df.query(\"text != ''\")"
   ]
  },
  {
   "cell_type": "code",
   "execution_count": 5,
   "id": "8c9d337e",
   "metadata": {},
   "outputs": [],
   "source": [
    "import regex as re\n",
    "from tqdm import tqdm\n",
    "\n",
    "regex_emoj = re.compile(\"[^\"\n",
    "    u\"\\U00000000-\\U000000FF\"\n",
    "    u\"\\U0001F446-\\U0001F450\"\n",
    "    u\"\\U0001F600-\\U0001F64F\"\n",
    "                  \"]+\", re.UNICODE)\n",
    "\n",
    "regex_espacos = re.compile(r'\\s{2,}', re.UNICODE)\n",
    "\n",
    "def process_text(text):\n",
    "    text = re.sub(regex_emoj, ' ', text)\n",
    "    text = re.sub(regex_espacos, ' ', text)\n",
    "    return text"
   ]
  },
  {
   "cell_type": "code",
   "execution_count": 6,
   "id": "3f4b2de6",
   "metadata": {},
   "outputs": [
    {
     "name": "stderr",
     "output_type": "stream",
     "text": [
      "100%|████████████████████████████████████████████████████████████████████████████| 1663/1663 [00:00<00:00, 1997.60it/s]\n"
     ]
    }
   ],
   "source": [
    "df[\"text\"] = df[\"text\"].progress_apply(process_text)"
   ]
  },
  {
   "cell_type": "code",
   "execution_count": 7,
   "id": "8a627381",
   "metadata": {},
   "outputs": [],
   "source": [
    "df.drop([\"id\", \"revid\"], axis = 1, inplace = True)"
   ]
  },
  {
   "cell_type": "code",
   "execution_count": 8,
   "id": "9e84a305",
   "metadata": {},
   "outputs": [
    {
     "data": {
      "text/html": [
       "<div>\n",
       "<style scoped>\n",
       "    .dataframe tbody tr th:only-of-type {\n",
       "        vertical-align: middle;\n",
       "    }\n",
       "\n",
       "    .dataframe tbody tr th {\n",
       "        vertical-align: top;\n",
       "    }\n",
       "\n",
       "    .dataframe thead th {\n",
       "        text-align: right;\n",
       "    }\n",
       "</style>\n",
       "<table border=\"1\" class=\"dataframe\">\n",
       "  <thead>\n",
       "    <tr style=\"text-align: right;\">\n",
       "      <th></th>\n",
       "      <th>url</th>\n",
       "      <th>title</th>\n",
       "      <th>text</th>\n",
       "    </tr>\n",
       "  </thead>\n",
       "  <tbody>\n",
       "    <tr>\n",
       "      <th>0</th>\n",
       "      <td>https://pt.wikipedia.org/wiki?curid=220</td>\n",
       "      <td>Astronomia</td>\n",
       "      <td>Astronomia é uma ciência natural que estuda co...</td>\n",
       "    </tr>\n",
       "    <tr>\n",
       "      <th>1</th>\n",
       "      <td>https://pt.wikipedia.org/wiki?curid=223</td>\n",
       "      <td>América Latina</td>\n",
       "      <td>A América Latina (em espanhol: \"América Latina...</td>\n",
       "    </tr>\n",
       "  </tbody>\n",
       "</table>\n",
       "</div>"
      ],
      "text/plain": [
       "                                       url           title  \\\n",
       "0  https://pt.wikipedia.org/wiki?curid=220      Astronomia   \n",
       "1  https://pt.wikipedia.org/wiki?curid=223  América Latina   \n",
       "\n",
       "                                                text  \n",
       "0  Astronomia é uma ciência natural que estuda co...  \n",
       "1  A América Latina (em espanhol: \"América Latina...  "
      ]
     },
     "execution_count": 8,
     "metadata": {},
     "output_type": "execute_result"
    }
   ],
   "source": [
    "df.head(2)"
   ]
  },
  {
   "cell_type": "code",
   "execution_count": null,
   "id": "17a28dc9",
   "metadata": {},
   "outputs": [],
   "source": []
  },
  {
   "cell_type": "code",
   "execution_count": 9,
   "id": "dd1a2a84",
   "metadata": {},
   "outputs": [],
   "source": [
    "import sqlite3\n",
    "\n",
    "conn = sqlite3.connect('textos.db')"
   ]
  },
  {
   "cell_type": "code",
   "execution_count": 10,
   "id": "01ca4fec",
   "metadata": {
    "scrolled": true
   },
   "outputs": [
    {
     "data": {
      "text/plain": [
       "1663"
      ]
     },
     "execution_count": 10,
     "metadata": {},
     "output_type": "execute_result"
    }
   ],
   "source": [
    "df.to_sql(name='textos', con=conn)"
   ]
  },
  {
   "cell_type": "code",
   "execution_count": 11,
   "id": "ac1d3bb2",
   "metadata": {},
   "outputs": [],
   "source": [
    "# pd.read_sql('select * from textos', conn)"
   ]
  },
  {
   "cell_type": "code",
   "execution_count": 12,
   "id": "2e222459",
   "metadata": {},
   "outputs": [],
   "source": [
    "conn.close()"
   ]
  },
  {
   "cell_type": "code",
   "execution_count": null,
   "id": "2f838af5",
   "metadata": {},
   "outputs": [],
   "source": []
  },
  {
   "cell_type": "code",
   "execution_count": 13,
   "id": "5041573d",
   "metadata": {},
   "outputs": [],
   "source": [
    "import sqlite3\n",
    "\n",
    "conn = sqlite3.connect('textos.db')"
   ]
  },
  {
   "cell_type": "code",
   "execution_count": null,
   "id": "1a790c4b",
   "metadata": {},
   "outputs": [],
   "source": []
  },
  {
   "cell_type": "code",
   "execution_count": 14,
   "id": "80ca9003",
   "metadata": {},
   "outputs": [],
   "source": [
    "texto_buscado = \"America\""
   ]
  },
  {
   "cell_type": "code",
   "execution_count": 15,
   "id": "53783f84",
   "metadata": {},
   "outputs": [],
   "source": [
    "df = pd.read_sql(f\"\"\"\n",
    "select * from textos\n",
    "where title LIKE '%{texto_buscado}%' or text LIKE '%{texto_buscado}%'\n",
    "\"\"\", conn)"
   ]
  },
  {
   "cell_type": "code",
   "execution_count": 16,
   "id": "d02d899b",
   "metadata": {},
   "outputs": [
    {
     "data": {
      "text/html": [
       "<div>\n",
       "<style scoped>\n",
       "    .dataframe tbody tr th:only-of-type {\n",
       "        vertical-align: middle;\n",
       "    }\n",
       "\n",
       "    .dataframe tbody tr th {\n",
       "        vertical-align: top;\n",
       "    }\n",
       "\n",
       "    .dataframe thead th {\n",
       "        text-align: right;\n",
       "    }\n",
       "</style>\n",
       "<table border=\"1\" class=\"dataframe\">\n",
       "  <thead>\n",
       "    <tr style=\"text-align: right;\">\n",
       "      <th></th>\n",
       "      <th>index</th>\n",
       "      <th>url</th>\n",
       "      <th>title</th>\n",
       "      <th>text</th>\n",
       "    </tr>\n",
       "  </thead>\n",
       "  <tbody>\n",
       "    <tr>\n",
       "      <th>0</th>\n",
       "      <td>1</td>\n",
       "      <td>https://pt.wikipedia.org/wiki?curid=223</td>\n",
       "      <td>América Latina</td>\n",
       "      <td>A América Latina (em espanhol: \"América Latina...</td>\n",
       "    </tr>\n",
       "    <tr>\n",
       "      <th>1</th>\n",
       "      <td>5</td>\n",
       "      <td>https://pt.wikipedia.org/wiki?curid=229</td>\n",
       "      <td>Anarcocapitalismo</td>\n",
       "      <td>Anarcocapitalismo (também conhecido como anarq...</td>\n",
       "    </tr>\n",
       "    <tr>\n",
       "      <th>2</th>\n",
       "      <td>6</td>\n",
       "      <td>https://pt.wikipedia.org/wiki?curid=230</td>\n",
       "      <td>Anarquismo</td>\n",
       "      <td>Nota: \"Anarquia\" redireciona para esta página...</td>\n",
       "    </tr>\n",
       "    <tr>\n",
       "      <th>3</th>\n",
       "      <td>7</td>\n",
       "      <td>https://pt.wikipedia.org/wiki?curid=231</td>\n",
       "      <td>Albert Einstein</td>\n",
       "      <td>Nota: Para outros significados, veja Albert E...</td>\n",
       "    </tr>\n",
       "    <tr>\n",
       "      <th>4</th>\n",
       "      <td>8</td>\n",
       "      <td>https://pt.wikipedia.org/wiki?curid=232</td>\n",
       "      <td>Aquecimento global</td>\n",
       "      <td>Nota: Este artigo é sobre o aumento atual da ...</td>\n",
       "    </tr>\n",
       "  </tbody>\n",
       "</table>\n",
       "</div>"
      ],
      "text/plain": [
       "   index                                      url               title  \\\n",
       "0      1  https://pt.wikipedia.org/wiki?curid=223      América Latina   \n",
       "1      5  https://pt.wikipedia.org/wiki?curid=229   Anarcocapitalismo   \n",
       "2      6  https://pt.wikipedia.org/wiki?curid=230          Anarquismo   \n",
       "3      7  https://pt.wikipedia.org/wiki?curid=231     Albert Einstein   \n",
       "4      8  https://pt.wikipedia.org/wiki?curid=232  Aquecimento global   \n",
       "\n",
       "                                                text  \n",
       "0  A América Latina (em espanhol: \"América Latina...  \n",
       "1  Anarcocapitalismo (também conhecido como anarq...  \n",
       "2   Nota: \"Anarquia\" redireciona para esta página...  \n",
       "3   Nota: Para outros significados, veja Albert E...  \n",
       "4   Nota: Este artigo é sobre o aumento atual da ...  "
      ]
     },
     "execution_count": 16,
     "metadata": {},
     "output_type": "execute_result"
    }
   ],
   "source": [
    "df.head()"
   ]
  },
  {
   "cell_type": "code",
   "execution_count": null,
   "id": "35a42c91",
   "metadata": {},
   "outputs": [],
   "source": []
  },
  {
   "cell_type": "code",
   "execution_count": null,
   "id": "606d462d",
   "metadata": {},
   "outputs": [],
   "source": []
  }
 ],
 "metadata": {
  "kernelspec": {
   "display_name": "env_geral",
   "language": "python",
   "name": "env_geral"
  },
  "language_info": {
   "codemirror_mode": {
    "name": "ipython",
    "version": 3
   },
   "file_extension": ".py",
   "mimetype": "text/x-python",
   "name": "python",
   "nbconvert_exporter": "python",
   "pygments_lexer": "ipython3",
   "version": "3.9.13"
  }
 },
 "nbformat": 4,
 "nbformat_minor": 5
}
